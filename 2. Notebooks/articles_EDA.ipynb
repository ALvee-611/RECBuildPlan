{
 "cells": [
  {
   "cell_type": "code",
   "execution_count": null,
   "metadata": {},
   "outputs": [],
   "source": []
  },
  {
   "attachments": {},
   "cell_type": "markdown",
   "metadata": {},
   "source": [
    "The goal is to comoe up with a Collaborative Filtering recommender system. In the approach, we will need to analyze a customer's past transaction history and then compare them to other customers to identify trends and similarities. Based on the patterns we find, we can recommend new items to the customer that they may be interested in. \n",
    "\n",
    "More specifically, we cannot build a User-based CF where items are recommended to  a customer based on similarities between the user and the other users since we only know the age-group of the customers. Instead, we opt for item-based CF which recommends items to a user based on similarities between the items they have interacted with and other items they may like."
   ]
  }
 ],
 "metadata": {
  "language_info": {
   "name": "python"
  },
  "orig_nbformat": 4
 },
 "nbformat": 4,
 "nbformat_minor": 2
}
