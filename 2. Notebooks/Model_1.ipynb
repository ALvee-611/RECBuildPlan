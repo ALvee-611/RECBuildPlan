{
 "cells": [
  {
   "attachments": {},
   "cell_type": "markdown",
   "metadata": {},
   "source": [
    "# Item-Based Recommender System"
   ]
  },
  {
   "attachments": {},
   "cell_type": "markdown",
   "metadata": {},
   "source": [
    "Now we will try to build a basic item based collaborative filtering model which will provide recommendations to users based on the similarity between items. We will first find the similarity scores between items in `articles_processed` table and then rank all the scores to recommend the top 5 most similar items."
   ]
  },
  {
   "cell_type": "code",
   "execution_count": 1,
   "metadata": {},
   "outputs": [],
   "source": [
    "import os\n",
    "import pandas as pd\n",
    "import configparser\n",
    "#import mysql.connector\n",
    "from sqlalchemy import create_engine\n",
    "\n",
    "import seaborn as sns\n",
    "import matplotlib.pyplot as plt\n",
    "\n",
    "config = configparser.ConfigParser()\n",
    "config.read('..\\\\config.ini')\n",
    "\n",
    "host = config['mysql']['host']\n",
    "database = config['mysql']['database']\n",
    "user = config['mysql']['user']\n",
    "password = config['mysql']['password']\n",
    "port = config['mysql']['port']\n",
    "\n",
    "def read_query(query):\n",
    "    engine = create_engine(f'mysql+pymysql://{user}:{password}@{host}:{port}/{database}')\n",
    "    df = pd.read_sql(query, con=engine)\n",
    "    print('Query Executed!')\n",
    "    return df"
   ]
  },
  {
   "cell_type": "code",
   "execution_count": 2,
   "metadata": {},
   "outputs": [
    {
     "name": "stdout",
     "output_type": "stream",
     "text": [
      "Query Executed!\n"
     ]
    }
   ],
   "source": [
    "prod_desc = \"\"\"\n",
    "SELECT \n",
    "    article_id, detail_desc\n",
    "FROM\n",
    "    articles;\n",
    "\"\"\"\n",
    "\n",
    "product_df = read_query(prod_desc)"
   ]
  },
  {
   "attachments": {},
   "cell_type": "markdown",
   "metadata": {},
   "source": [
    "In order to start simple, we will start by just using the product_description to try findind similar itms for recommending.\n",
    "\n",
    "Hypothesis: The product decription of the items has enough information for us to find similar products."
   ]
  }
 ],
 "metadata": {
  "kernelspec": {
   "display_name": "click_predict",
   "language": "python",
   "name": "python3"
  },
  "language_info": {
   "codemirror_mode": {
    "name": "ipython",
    "version": 3
   },
   "file_extension": ".py",
   "mimetype": "text/x-python",
   "name": "python",
   "nbconvert_exporter": "python",
   "pygments_lexer": "ipython3",
   "version": "3.11.2"
  },
  "orig_nbformat": 4
 },
 "nbformat": 4,
 "nbformat_minor": 2
}
