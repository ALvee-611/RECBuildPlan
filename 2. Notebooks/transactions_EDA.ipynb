{
 "cells": [
  {
   "cell_type": "code",
   "execution_count": 1,
   "metadata": {},
   "outputs": [],
   "source": [
    "import os\n",
    "import pandas as pd\n",
    "import configparser\n",
    "#import mysql.connector\n",
    "from sqlalchemy import create_engine\n",
    "\n",
    "import seaborn as sns\n",
    "import matplotlib.pyplot as plt\n",
    "\n",
    "config = configparser.ConfigParser()\n",
    "config.read('..\\\\config.ini')\n",
    "\n",
    "host = config['mysql']['host']\n",
    "database = config['mysql']['database']\n",
    "user = config['mysql']['user']\n",
    "password = config['mysql']['password']\n",
    "port = config['mysql']['port']"
   ]
  },
  {
   "cell_type": "code",
   "execution_count": 2,
   "metadata": {},
   "outputs": [],
   "source": [
    "def read_query(query):\n",
    "    engine = create_engine(f'mysql+pymysql://{user}:{password}@{host}:{port}/{database}')\n",
    "    df = pd.read_sql(query, con=engine)\n",
    "    print('Query Executed!')\n",
    "    return df"
   ]
  },
  {
   "attachments": {},
   "cell_type": "markdown",
   "metadata": {},
   "source": [
    "In this notebook we will start by exploring the `transactions` table to get a better idea of the items. Once we have a better idea, we can decide on the type of recommender system we should build."
   ]
  },
  {
   "attachments": {},
   "cell_type": "markdown",
   "metadata": {},
   "source": [
    "Checking the basic structure of the data:"
   ]
  },
  {
   "cell_type": "code",
   "execution_count": 5,
   "metadata": {},
   "outputs": [
    {
     "name": "stdout",
     "output_type": "stream",
     "text": [
      "Query Executed!\n"
     ]
    },
    {
     "data": {
      "text/html": [
       "<div>\n",
       "<style scoped>\n",
       "    .dataframe tbody tr th:only-of-type {\n",
       "        vertical-align: middle;\n",
       "    }\n",
       "\n",
       "    .dataframe tbody tr th {\n",
       "        vertical-align: top;\n",
       "    }\n",
       "\n",
       "    .dataframe thead th {\n",
       "        text-align: right;\n",
       "    }\n",
       "</style>\n",
       "<table border=\"1\" class=\"dataframe\">\n",
       "  <thead>\n",
       "    <tr style=\"text-align: right;\">\n",
       "      <th></th>\n",
       "      <th>t_dat</th>\n",
       "      <th>customer_id</th>\n",
       "      <th>article_id</th>\n",
       "      <th>price</th>\n",
       "      <th>sales_channel_id</th>\n",
       "    </tr>\n",
       "  </thead>\n",
       "  <tbody>\n",
       "    <tr>\n",
       "      <th>0</th>\n",
       "      <td>2018-09-20</td>\n",
       "      <td>000058a12d5b43e67d225668fa1f8d618c13dc232df0ca...</td>\n",
       "      <td>663713001</td>\n",
       "      <td>0.050831</td>\n",
       "      <td>2</td>\n",
       "    </tr>\n",
       "    <tr>\n",
       "      <th>1</th>\n",
       "      <td>2018-09-20</td>\n",
       "      <td>000058a12d5b43e67d225668fa1f8d618c13dc232df0ca...</td>\n",
       "      <td>541518023</td>\n",
       "      <td>0.030492</td>\n",
       "      <td>2</td>\n",
       "    </tr>\n",
       "    <tr>\n",
       "      <th>2</th>\n",
       "      <td>2018-09-20</td>\n",
       "      <td>00007d2de826758b65a93dd24ce629ed66842531df6699...</td>\n",
       "      <td>505221004</td>\n",
       "      <td>0.015237</td>\n",
       "      <td>2</td>\n",
       "    </tr>\n",
       "    <tr>\n",
       "      <th>3</th>\n",
       "      <td>2018-09-20</td>\n",
       "      <td>00007d2de826758b65a93dd24ce629ed66842531df6699...</td>\n",
       "      <td>685687003</td>\n",
       "      <td>0.016932</td>\n",
       "      <td>2</td>\n",
       "    </tr>\n",
       "    <tr>\n",
       "      <th>4</th>\n",
       "      <td>2018-09-20</td>\n",
       "      <td>00007d2de826758b65a93dd24ce629ed66842531df6699...</td>\n",
       "      <td>685687004</td>\n",
       "      <td>0.016932</td>\n",
       "      <td>2</td>\n",
       "    </tr>\n",
       "    <tr>\n",
       "      <th>5</th>\n",
       "      <td>2018-09-20</td>\n",
       "      <td>00007d2de826758b65a93dd24ce629ed66842531df6699...</td>\n",
       "      <td>685687001</td>\n",
       "      <td>0.016932</td>\n",
       "      <td>2</td>\n",
       "    </tr>\n",
       "    <tr>\n",
       "      <th>6</th>\n",
       "      <td>2018-09-20</td>\n",
       "      <td>00007d2de826758b65a93dd24ce629ed66842531df6699...</td>\n",
       "      <td>505221001</td>\n",
       "      <td>0.020322</td>\n",
       "      <td>2</td>\n",
       "    </tr>\n",
       "    <tr>\n",
       "      <th>7</th>\n",
       "      <td>2018-09-20</td>\n",
       "      <td>00083cda041544b2fbb0e0d2905ad17da7cf1007526fb4...</td>\n",
       "      <td>688873012</td>\n",
       "      <td>0.030492</td>\n",
       "      <td>1</td>\n",
       "    </tr>\n",
       "    <tr>\n",
       "      <th>8</th>\n",
       "      <td>2018-09-20</td>\n",
       "      <td>00083cda041544b2fbb0e0d2905ad17da7cf1007526fb4...</td>\n",
       "      <td>501323011</td>\n",
       "      <td>0.053373</td>\n",
       "      <td>1</td>\n",
       "    </tr>\n",
       "    <tr>\n",
       "      <th>9</th>\n",
       "      <td>2018-09-20</td>\n",
       "      <td>00083cda041544b2fbb0e0d2905ad17da7cf1007526fb4...</td>\n",
       "      <td>598859003</td>\n",
       "      <td>0.045746</td>\n",
       "      <td>2</td>\n",
       "    </tr>\n",
       "    <tr>\n",
       "      <th>10</th>\n",
       "      <td>2018-09-20</td>\n",
       "      <td>00083cda041544b2fbb0e0d2905ad17da7cf1007526fb4...</td>\n",
       "      <td>688873020</td>\n",
       "      <td>0.030492</td>\n",
       "      <td>1</td>\n",
       "    </tr>\n",
       "    <tr>\n",
       "      <th>11</th>\n",
       "      <td>2018-09-20</td>\n",
       "      <td>00083cda041544b2fbb0e0d2905ad17da7cf1007526fb4...</td>\n",
       "      <td>688873011</td>\n",
       "      <td>0.030492</td>\n",
       "      <td>1</td>\n",
       "    </tr>\n",
       "    <tr>\n",
       "      <th>12</th>\n",
       "      <td>2018-09-20</td>\n",
       "      <td>0008968c0d451dbc5a9968da03196fe20051965edde741...</td>\n",
       "      <td>531310002</td>\n",
       "      <td>0.022525</td>\n",
       "      <td>2</td>\n",
       "    </tr>\n",
       "    <tr>\n",
       "      <th>13</th>\n",
       "      <td>2018-09-20</td>\n",
       "      <td>0008968c0d451dbc5a9968da03196fe20051965edde741...</td>\n",
       "      <td>529841001</td>\n",
       "      <td>0.020322</td>\n",
       "      <td>2</td>\n",
       "    </tr>\n",
       "    <tr>\n",
       "      <th>14</th>\n",
       "      <td>2018-09-20</td>\n",
       "      <td>000aa7f0dc06cd7174389e76c9e132a67860c5f65f9706...</td>\n",
       "      <td>501820043</td>\n",
       "      <td>0.016932</td>\n",
       "      <td>2</td>\n",
       "    </tr>\n",
       "    <tr>\n",
       "      <th>15</th>\n",
       "      <td>2018-09-20</td>\n",
       "      <td>000aa7f0dc06cd7174389e76c9e132a67860c5f65f9706...</td>\n",
       "      <td>501820043</td>\n",
       "      <td>0.016932</td>\n",
       "      <td>2</td>\n",
       "    </tr>\n",
       "    <tr>\n",
       "      <th>16</th>\n",
       "      <td>2018-09-20</td>\n",
       "      <td>000aa7f0dc06cd7174389e76c9e132a67860c5f65f9706...</td>\n",
       "      <td>674681001</td>\n",
       "      <td>0.008458</td>\n",
       "      <td>2</td>\n",
       "    </tr>\n",
       "    <tr>\n",
       "      <th>17</th>\n",
       "      <td>2018-09-20</td>\n",
       "      <td>000aa7f0dc06cd7174389e76c9e132a67860c5f65f9706...</td>\n",
       "      <td>671505001</td>\n",
       "      <td>0.033881</td>\n",
       "      <td>2</td>\n",
       "    </tr>\n",
       "    <tr>\n",
       "      <th>18</th>\n",
       "      <td>2018-09-20</td>\n",
       "      <td>000aa7f0dc06cd7174389e76c9e132a67860c5f65f9706...</td>\n",
       "      <td>671505001</td>\n",
       "      <td>0.033881</td>\n",
       "      <td>2</td>\n",
       "    </tr>\n",
       "    <tr>\n",
       "      <th>19</th>\n",
       "      <td>2018-09-20</td>\n",
       "      <td>000aa7f0dc06cd7174389e76c9e132a67860c5f65f9706...</td>\n",
       "      <td>631848002</td>\n",
       "      <td>0.033881</td>\n",
       "      <td>2</td>\n",
       "    </tr>\n",
       "  </tbody>\n",
       "</table>\n",
       "</div>"
      ],
      "text/plain": [
       "         t_dat                                        customer_id  article_id   \n",
       "0   2018-09-20  000058a12d5b43e67d225668fa1f8d618c13dc232df0ca...   663713001  \\\n",
       "1   2018-09-20  000058a12d5b43e67d225668fa1f8d618c13dc232df0ca...   541518023   \n",
       "2   2018-09-20  00007d2de826758b65a93dd24ce629ed66842531df6699...   505221004   \n",
       "3   2018-09-20  00007d2de826758b65a93dd24ce629ed66842531df6699...   685687003   \n",
       "4   2018-09-20  00007d2de826758b65a93dd24ce629ed66842531df6699...   685687004   \n",
       "5   2018-09-20  00007d2de826758b65a93dd24ce629ed66842531df6699...   685687001   \n",
       "6   2018-09-20  00007d2de826758b65a93dd24ce629ed66842531df6699...   505221001   \n",
       "7   2018-09-20  00083cda041544b2fbb0e0d2905ad17da7cf1007526fb4...   688873012   \n",
       "8   2018-09-20  00083cda041544b2fbb0e0d2905ad17da7cf1007526fb4...   501323011   \n",
       "9   2018-09-20  00083cda041544b2fbb0e0d2905ad17da7cf1007526fb4...   598859003   \n",
       "10  2018-09-20  00083cda041544b2fbb0e0d2905ad17da7cf1007526fb4...   688873020   \n",
       "11  2018-09-20  00083cda041544b2fbb0e0d2905ad17da7cf1007526fb4...   688873011   \n",
       "12  2018-09-20  0008968c0d451dbc5a9968da03196fe20051965edde741...   531310002   \n",
       "13  2018-09-20  0008968c0d451dbc5a9968da03196fe20051965edde741...   529841001   \n",
       "14  2018-09-20  000aa7f0dc06cd7174389e76c9e132a67860c5f65f9706...   501820043   \n",
       "15  2018-09-20  000aa7f0dc06cd7174389e76c9e132a67860c5f65f9706...   501820043   \n",
       "16  2018-09-20  000aa7f0dc06cd7174389e76c9e132a67860c5f65f9706...   674681001   \n",
       "17  2018-09-20  000aa7f0dc06cd7174389e76c9e132a67860c5f65f9706...   671505001   \n",
       "18  2018-09-20  000aa7f0dc06cd7174389e76c9e132a67860c5f65f9706...   671505001   \n",
       "19  2018-09-20  000aa7f0dc06cd7174389e76c9e132a67860c5f65f9706...   631848002   \n",
       "\n",
       "       price  sales_channel_id  \n",
       "0   0.050831                 2  \n",
       "1   0.030492                 2  \n",
       "2   0.015237                 2  \n",
       "3   0.016932                 2  \n",
       "4   0.016932                 2  \n",
       "5   0.016932                 2  \n",
       "6   0.020322                 2  \n",
       "7   0.030492                 1  \n",
       "8   0.053373                 1  \n",
       "9   0.045746                 2  \n",
       "10  0.030492                 1  \n",
       "11  0.030492                 1  \n",
       "12  0.022525                 2  \n",
       "13  0.020322                 2  \n",
       "14  0.016932                 2  \n",
       "15  0.016932                 2  \n",
       "16  0.008458                 2  \n",
       "17  0.033881                 2  \n",
       "18  0.033881                 2  \n",
       "19  0.033881                 2  "
      ]
     },
     "execution_count": 5,
     "metadata": {},
     "output_type": "execute_result"
    }
   ],
   "source": [
    "query = \"\"\"\n",
    "SELECT *\n",
    "FROM transactions\n",
    "LIMIT 20;\n",
    "\"\"\"\n",
    "\n",
    "read_query(query)"
   ]
  },
  {
   "attachments": {},
   "cell_type": "markdown",
   "metadata": {},
   "source": [
    "Checking the starting date and end date:"
   ]
  },
  {
   "cell_type": "code",
   "execution_count": 4,
   "metadata": {},
   "outputs": [
    {
     "name": "stdout",
     "output_type": "stream",
     "text": [
      "Query Executed!\n"
     ]
    },
    {
     "data": {
      "text/html": [
       "<div>\n",
       "<style scoped>\n",
       "    .dataframe tbody tr th:only-of-type {\n",
       "        vertical-align: middle;\n",
       "    }\n",
       "\n",
       "    .dataframe tbody tr th {\n",
       "        vertical-align: top;\n",
       "    }\n",
       "\n",
       "    .dataframe thead th {\n",
       "        text-align: right;\n",
       "    }\n",
       "</style>\n",
       "<table border=\"1\" class=\"dataframe\">\n",
       "  <thead>\n",
       "    <tr style=\"text-align: right;\">\n",
       "      <th></th>\n",
       "      <th>end_date</th>\n",
       "      <th>start_date</th>\n",
       "    </tr>\n",
       "  </thead>\n",
       "  <tbody>\n",
       "    <tr>\n",
       "      <th>0</th>\n",
       "      <td>2020-09-22</td>\n",
       "      <td>2018-09-20</td>\n",
       "    </tr>\n",
       "  </tbody>\n",
       "</table>\n",
       "</div>"
      ],
      "text/plain": [
       "     end_date  start_date\n",
       "0  2020-09-22  2018-09-20"
      ]
     },
     "execution_count": 4,
     "metadata": {},
     "output_type": "execute_result"
    }
   ],
   "source": [
    "query = \"\"\"\n",
    "SELECT \n",
    "    MAX(t_dat) AS end_date, MIN(t_dat) AS start_date\n",
    "FROM\n",
    "    transactions;\n",
    "\"\"\"\n",
    "\n",
    "read_query(query)"
   ]
  },
  {
   "attachments": {},
   "cell_type": "markdown",
   "metadata": {},
   "source": [
    "The dataset contains transaction history of customers from 2018-09-18 to 2020-09-22 which is roughly 2 years.\n",
    "\n",
    "When training our model, this feature will be of no use but instead of using the specific dates, we can extract the month and even check if the day is a weekend or not since this will help us get a better idea of the spending habits of the customers. \n",
    "\n",
    "However, before we do these feature engineering, we will need to remove `customer_id` not present in the `customer_preprocessed` table we created earlier. Moreover, the data contains transaction activity of both online and in-person shopping but since we are trying to create a recommender for only online users, we can remove instances where sales_channel_id = 1 (indicating store purchases). "
   ]
  },
  {
   "attachments": {},
   "cell_type": "markdown",
   "metadata": {},
   "source": [
    "Checking if price of product remained same over these 2 years:"
   ]
  },
  {
   "cell_type": "code",
   "execution_count": 3,
   "metadata": {},
   "outputs": [
    {
     "name": "stdout",
     "output_type": "stream",
     "text": [
      "Query Executed!\n"
     ]
    },
    {
     "data": {
      "text/html": [
       "<div>\n",
       "<style scoped>\n",
       "    .dataframe tbody tr th:only-of-type {\n",
       "        vertical-align: middle;\n",
       "    }\n",
       "\n",
       "    .dataframe tbody tr th {\n",
       "        vertical-align: top;\n",
       "    }\n",
       "\n",
       "    .dataframe thead th {\n",
       "        text-align: right;\n",
       "    }\n",
       "</style>\n",
       "<table border=\"1\" class=\"dataframe\">\n",
       "  <thead>\n",
       "    <tr style=\"text-align: right;\">\n",
       "      <th></th>\n",
       "      <th>article_id</th>\n",
       "      <th>price_changes</th>\n",
       "    </tr>\n",
       "  </thead>\n",
       "  <tbody>\n",
       "    <tr>\n",
       "      <th>0</th>\n",
       "      <td>108775015</td>\n",
       "      <td>130</td>\n",
       "    </tr>\n",
       "    <tr>\n",
       "      <th>1</th>\n",
       "      <td>108775044</td>\n",
       "      <td>125</td>\n",
       "    </tr>\n",
       "    <tr>\n",
       "      <th>2</th>\n",
       "      <td>108775051</td>\n",
       "      <td>11</td>\n",
       "    </tr>\n",
       "    <tr>\n",
       "      <th>3</th>\n",
       "      <td>110065001</td>\n",
       "      <td>43</td>\n",
       "    </tr>\n",
       "    <tr>\n",
       "      <th>4</th>\n",
       "      <td>110065002</td>\n",
       "      <td>28</td>\n",
       "    </tr>\n",
       "    <tr>\n",
       "      <th>...</th>\n",
       "      <td>...</td>\n",
       "      <td>...</td>\n",
       "    </tr>\n",
       "    <tr>\n",
       "      <th>98317</th>\n",
       "      <td>952267001</td>\n",
       "      <td>8</td>\n",
       "    </tr>\n",
       "    <tr>\n",
       "      <th>98318</th>\n",
       "      <td>952938001</td>\n",
       "      <td>3</td>\n",
       "    </tr>\n",
       "    <tr>\n",
       "      <th>98319</th>\n",
       "      <td>953450001</td>\n",
       "      <td>2</td>\n",
       "    </tr>\n",
       "    <tr>\n",
       "      <th>98320</th>\n",
       "      <td>953763001</td>\n",
       "      <td>7</td>\n",
       "    </tr>\n",
       "    <tr>\n",
       "      <th>98321</th>\n",
       "      <td>956217002</td>\n",
       "      <td>3</td>\n",
       "    </tr>\n",
       "  </tbody>\n",
       "</table>\n",
       "<p>98322 rows × 2 columns</p>\n",
       "</div>"
      ],
      "text/plain": [
       "       article_id  price_changes\n",
       "0       108775015            130\n",
       "1       108775044            125\n",
       "2       108775051             11\n",
       "3       110065001             43\n",
       "4       110065002             28\n",
       "...           ...            ...\n",
       "98317   952267001              8\n",
       "98318   952938001              3\n",
       "98319   953450001              2\n",
       "98320   953763001              7\n",
       "98321   956217002              3\n",
       "\n",
       "[98322 rows x 2 columns]"
      ]
     },
     "execution_count": 3,
     "metadata": {},
     "output_type": "execute_result"
    }
   ],
   "source": [
    "q = \"\"\"\n",
    "SELECT \n",
    "    T.article_id, COUNT(*) AS price_changes\n",
    "FROM\n",
    "    (SELECT \n",
    "        article_id\n",
    "    FROM\n",
    "        transactions\n",
    "    WHERE\n",
    "        sales_channel_id = 2\n",
    "    GROUP BY article_id , price) T\n",
    "GROUP BY T.article_id;\n",
    "\"\"\"\n",
    "\n",
    "all_changes = read_query(q)\n",
    "all_changes"
   ]
  },
  {
   "attachments": {},
   "cell_type": "markdown",
   "metadata": {},
   "source": [
    "We can see clearly that the same article_id has different prices indicating that the price for that item had changed over the years.\n",
    "\n",
    "Since price is always an important factor when trying to decide what to buy we clearly need to fix this issue. The site where this model will be deployed will have the price of the items always fixed, so we need to do the same for our training set. "
   ]
  },
  {
   "cell_type": "code",
   "execution_count": 6,
   "metadata": {},
   "outputs": [],
   "source": [
    "location_of_subfolders = \"..//h-and-m-personalized-fashion-recommendations//images\"\n",
    "\n",
    "# Get a list of all files in the folder\n",
    "subfolder_names = os.listdir(location_of_subfolders)\n",
    "\n",
    "all_articles = []\n",
    "\n",
    "# Print the names of all files in the folder\n",
    "for name in subfolder_names:\n",
    "    location_of_images = os.path.join(location_of_subfolders,name)\n",
    "    image_names = os.listdir(location_of_images)\n",
    "    all_articles = all_articles + [int(x.replace('.jpg', '')) for x in image_names]"
   ]
  },
  {
   "cell_type": "code",
   "execution_count": 7,
   "metadata": {},
   "outputs": [
    {
     "name": "stdout",
     "output_type": "stream",
     "text": [
      "Query Executed!\n"
     ]
    }
   ],
   "source": [
    "all_items = \"\"\"\n",
    "SELECT \n",
    "    *\n",
    "FROM\n",
    "    transactions\n",
    "WHERE\n",
    "    sales_channel_id = 2\n",
    "\"\"\"\n",
    "\n",
    "items_all = read_query(all_items)"
   ]
  },
  {
   "cell_type": "code",
   "execution_count": 8,
   "metadata": {},
   "outputs": [],
   "source": [
    "new_articles_df = items_all[items_all['article_id'].isin(all_articles)]"
   ]
  },
  {
   "attachments": {},
   "cell_type": "markdown",
   "metadata": {},
   "source": [
    "Saving the table in the database to be used later:"
   ]
  },
  {
   "cell_type": "code",
   "execution_count": null,
   "metadata": {},
   "outputs": [],
   "source": [
    "new_articles_df['customer_id'] = new_articles_df['customer_id'].astype('category')\n",
    "new_articles_df['article_id'] = new_articles_df['article_id'].astype('category')"
   ]
  },
  {
   "cell_type": "code",
   "execution_count": null,
   "metadata": {},
   "outputs": [],
   "source": [
    "new_articles_df['t_dat'] = new_articles_df['t_dat'].astype('datetime64[ns]')"
   ]
  },
  {
   "cell_type": "code",
   "execution_count": null,
   "metadata": {},
   "outputs": [],
   "source": [
    "new_articles_df['price'] = new_articles_df['price'].astype('float32')"
   ]
  },
  {
   "cell_type": "code",
   "execution_count": 26,
   "metadata": {},
   "outputs": [],
   "source": [
    "new_articles_df = new_articles_df.drop('sales_channel_id', axis=1)"
   ]
  },
  {
   "cell_type": "code",
   "execution_count": 28,
   "metadata": {},
   "outputs": [
    {
     "name": "stdout",
     "output_type": "stream",
     "text": [
      "<class 'pandas.core.frame.DataFrame'>\n",
      "Index: 22283034 entries, 0 to 22379861\n",
      "Data columns (total 4 columns):\n",
      " #   Column       Dtype         \n",
      "---  ------       -----         \n",
      " 0   t_dat        datetime64[ns]\n",
      " 1   customer_id  category      \n",
      " 2   article_id   category      \n",
      " 3   price        float32       \n",
      "dtypes: category(2), datetime64[ns](1), float32(1)\n",
      "memory usage: 638.5 MB\n"
     ]
    }
   ],
   "source": [
    "new_articles_df.info()"
   ]
  },
  {
   "cell_type": "code",
   "execution_count": 29,
   "metadata": {},
   "outputs": [
    {
     "data": {
      "text/plain": [
       "22283034"
      ]
     },
     "execution_count": 29,
     "metadata": {},
     "output_type": "execute_result"
    }
   ],
   "source": [
    "engine = create_engine(f'mysql+pymysql://{user}:{password}@{host}:{port}/{database}')\n",
    "\n",
    "new_articles_df.to_sql('transactions_processed', engine, if_exists='replace', index=False)"
   ]
  },
  {
   "attachments": {},
   "cell_type": "markdown",
   "metadata": {},
   "source": [
    "Get total transactions of each product in 2018:"
   ]
  },
  {
   "cell_type": "code",
   "execution_count": 3,
   "metadata": {},
   "outputs": [
    {
     "name": "stdout",
     "output_type": "stream",
     "text": [
      "Query Executed!\n"
     ]
    }
   ],
   "source": [
    "q=\"\"\"\n",
    "SELECT \n",
    "    t_dat,\n",
    "    article_id,\n",
    "    COUNT(*) AS total_purchase\n",
    "FROM\n",
    "    transactions_processed\n",
    "WHERE\n",
    "    t_dat BETWEEN '2018-09-18' AND '2018-12-31' \n",
    "GROUP BY t_dat, article_id;\n",
    "\"\"\"\n",
    "\n",
    "df_2018 = read_query(q) "
   ]
  },
  {
   "cell_type": "code",
   "execution_count": 35,
   "metadata": {},
   "outputs": [
    {
     "data": {
      "text/html": [
       "<div>\n",
       "<style scoped>\n",
       "    .dataframe tbody tr th:only-of-type {\n",
       "        vertical-align: middle;\n",
       "    }\n",
       "\n",
       "    .dataframe tbody tr th {\n",
       "        vertical-align: top;\n",
       "    }\n",
       "\n",
       "    .dataframe thead th {\n",
       "        text-align: right;\n",
       "    }\n",
       "</style>\n",
       "<table border=\"1\" class=\"dataframe\">\n",
       "  <thead>\n",
       "    <tr style=\"text-align: right;\">\n",
       "      <th></th>\n",
       "      <th>t_dat</th>\n",
       "      <th>article_id</th>\n",
       "      <th>total_purchase</th>\n",
       "    </tr>\n",
       "  </thead>\n",
       "  <tbody>\n",
       "    <tr>\n",
       "      <th>0</th>\n",
       "      <td>2018-09-20</td>\n",
       "      <td>663713001</td>\n",
       "      <td>4</td>\n",
       "    </tr>\n",
       "    <tr>\n",
       "      <th>1</th>\n",
       "      <td>2018-09-20</td>\n",
       "      <td>541518023</td>\n",
       "      <td>8</td>\n",
       "    </tr>\n",
       "    <tr>\n",
       "      <th>2</th>\n",
       "      <td>2018-09-20</td>\n",
       "      <td>505221004</td>\n",
       "      <td>9</td>\n",
       "    </tr>\n",
       "    <tr>\n",
       "      <th>3</th>\n",
       "      <td>2018-09-20</td>\n",
       "      <td>685687003</td>\n",
       "      <td>242</td>\n",
       "    </tr>\n",
       "    <tr>\n",
       "      <th>4</th>\n",
       "      <td>2018-09-20</td>\n",
       "      <td>685687004</td>\n",
       "      <td>443</td>\n",
       "    </tr>\n",
       "    <tr>\n",
       "      <th>...</th>\n",
       "      <td>...</td>\n",
       "      <td>...</td>\n",
       "      <td>...</td>\n",
       "    </tr>\n",
       "    <tr>\n",
       "      <th>864742</th>\n",
       "      <td>2018-12-31</td>\n",
       "      <td>668767004</td>\n",
       "      <td>1</td>\n",
       "    </tr>\n",
       "    <tr>\n",
       "      <th>864743</th>\n",
       "      <td>2018-12-31</td>\n",
       "      <td>665330002</td>\n",
       "      <td>1</td>\n",
       "    </tr>\n",
       "    <tr>\n",
       "      <th>864744</th>\n",
       "      <td>2018-12-31</td>\n",
       "      <td>702883001</td>\n",
       "      <td>1</td>\n",
       "    </tr>\n",
       "    <tr>\n",
       "      <th>864745</th>\n",
       "      <td>2018-12-31</td>\n",
       "      <td>700746002</td>\n",
       "      <td>1</td>\n",
       "    </tr>\n",
       "    <tr>\n",
       "      <th>864746</th>\n",
       "      <td>2018-12-31</td>\n",
       "      <td>688641003</td>\n",
       "      <td>1</td>\n",
       "    </tr>\n",
       "  </tbody>\n",
       "</table>\n",
       "<p>864747 rows × 3 columns</p>\n",
       "</div>"
      ],
      "text/plain": [
       "            t_dat article_id  total_purchase\n",
       "0      2018-09-20  663713001               4\n",
       "1      2018-09-20  541518023               8\n",
       "2      2018-09-20  505221004               9\n",
       "3      2018-09-20  685687003             242\n",
       "4      2018-09-20  685687004             443\n",
       "...           ...        ...             ...\n",
       "864742 2018-12-31  668767004               1\n",
       "864743 2018-12-31  665330002               1\n",
       "864744 2018-12-31  702883001               1\n",
       "864745 2018-12-31  700746002               1\n",
       "864746 2018-12-31  688641003               1\n",
       "\n",
       "[864747 rows x 3 columns]"
      ]
     },
     "execution_count": 35,
     "metadata": {},
     "output_type": "execute_result"
    }
   ],
   "source": [
    "df_2018"
   ]
  },
  {
   "attachments": {},
   "cell_type": "markdown",
   "metadata": {},
   "source": [
    "Get total transactions of each product in 2019:"
   ]
  },
  {
   "cell_type": "code",
   "execution_count": 4,
   "metadata": {},
   "outputs": [
    {
     "name": "stdout",
     "output_type": "stream",
     "text": [
      "Query Executed!\n"
     ]
    }
   ],
   "source": [
    "q=\"\"\"\n",
    "SELECT \n",
    "    t_dat,\n",
    "    article_id,\n",
    "    COUNT(*) AS total_purchase\n",
    "FROM\n",
    "    transactions_processed\n",
    "WHERE\n",
    "    t_dat BETWEEN '2019-01-01' AND '2019-12-31' \n",
    "GROUP BY t_dat, article_id;\n",
    "\"\"\"\n",
    "\n",
    "df_2019 = read_query(q)"
   ]
  },
  {
   "cell_type": "code",
   "execution_count": 5,
   "metadata": {},
   "outputs": [
    {
     "data": {
      "text/html": [
       "<div>\n",
       "<style scoped>\n",
       "    .dataframe tbody tr th:only-of-type {\n",
       "        vertical-align: middle;\n",
       "    }\n",
       "\n",
       "    .dataframe tbody tr th {\n",
       "        vertical-align: top;\n",
       "    }\n",
       "\n",
       "    .dataframe thead th {\n",
       "        text-align: right;\n",
       "    }\n",
       "</style>\n",
       "<table border=\"1\" class=\"dataframe\">\n",
       "  <thead>\n",
       "    <tr style=\"text-align: right;\">\n",
       "      <th></th>\n",
       "      <th>t_dat</th>\n",
       "      <th>article_id</th>\n",
       "      <th>total_purchase</th>\n",
       "    </tr>\n",
       "  </thead>\n",
       "  <tbody>\n",
       "    <tr>\n",
       "      <th>0</th>\n",
       "      <td>2019-01-01</td>\n",
       "      <td>304766008</td>\n",
       "      <td>3</td>\n",
       "    </tr>\n",
       "    <tr>\n",
       "      <th>1</th>\n",
       "      <td>2019-01-01</td>\n",
       "      <td>662916002</td>\n",
       "      <td>1</td>\n",
       "    </tr>\n",
       "    <tr>\n",
       "      <th>2</th>\n",
       "      <td>2019-01-01</td>\n",
       "      <td>740909001</td>\n",
       "      <td>3</td>\n",
       "    </tr>\n",
       "    <tr>\n",
       "      <th>3</th>\n",
       "      <td>2019-01-01</td>\n",
       "      <td>666382002</td>\n",
       "      <td>14</td>\n",
       "    </tr>\n",
       "    <tr>\n",
       "      <th>4</th>\n",
       "      <td>2019-01-01</td>\n",
       "      <td>583534018</td>\n",
       "      <td>1</td>\n",
       "    </tr>\n",
       "    <tr>\n",
       "      <th>...</th>\n",
       "      <td>...</td>\n",
       "      <td>...</td>\n",
       "      <td>...</td>\n",
       "    </tr>\n",
       "    <tr>\n",
       "      <th>2845421</th>\n",
       "      <td>2019-12-31</td>\n",
       "      <td>560338001</td>\n",
       "      <td>1</td>\n",
       "    </tr>\n",
       "    <tr>\n",
       "      <th>2845422</th>\n",
       "      <td>2019-12-31</td>\n",
       "      <td>806973001</td>\n",
       "      <td>1</td>\n",
       "    </tr>\n",
       "    <tr>\n",
       "      <th>2845423</th>\n",
       "      <td>2019-12-31</td>\n",
       "      <td>787880005</td>\n",
       "      <td>1</td>\n",
       "    </tr>\n",
       "    <tr>\n",
       "      <th>2845424</th>\n",
       "      <td>2019-12-31</td>\n",
       "      <td>792695001</td>\n",
       "      <td>2</td>\n",
       "    </tr>\n",
       "    <tr>\n",
       "      <th>2845425</th>\n",
       "      <td>2019-12-31</td>\n",
       "      <td>469658009</td>\n",
       "      <td>1</td>\n",
       "    </tr>\n",
       "  </tbody>\n",
       "</table>\n",
       "<p>2845426 rows × 3 columns</p>\n",
       "</div>"
      ],
      "text/plain": [
       "             t_dat article_id  total_purchase\n",
       "0       2019-01-01  304766008               3\n",
       "1       2019-01-01  662916002               1\n",
       "2       2019-01-01  740909001               3\n",
       "3       2019-01-01  666382002              14\n",
       "4       2019-01-01  583534018               1\n",
       "...            ...        ...             ...\n",
       "2845421 2019-12-31  560338001               1\n",
       "2845422 2019-12-31  806973001               1\n",
       "2845423 2019-12-31  787880005               1\n",
       "2845424 2019-12-31  792695001               2\n",
       "2845425 2019-12-31  469658009               1\n",
       "\n",
       "[2845426 rows x 3 columns]"
      ]
     },
     "execution_count": 5,
     "metadata": {},
     "output_type": "execute_result"
    }
   ],
   "source": [
    "df_2019"
   ]
  },
  {
   "attachments": {},
   "cell_type": "markdown",
   "metadata": {},
   "source": [
    "Get total transactions of each product in 2020:"
   ]
  },
  {
   "cell_type": "code",
   "execution_count": 9,
   "metadata": {},
   "outputs": [
    {
     "name": "stdout",
     "output_type": "stream",
     "text": [
      "Query Executed!\n"
     ]
    }
   ],
   "source": [
    "q=\"\"\"\n",
    "SELECT \n",
    "    t_dat,\n",
    "    article_id,\n",
    "    COUNT(*) AS total_purchase\n",
    "FROM\n",
    "    transactions_processed\n",
    "WHERE\n",
    "    t_dat BETWEEN '2020-01-01' AND '2020-09-23' \n",
    "GROUP BY t_dat, article_id;\n",
    "\"\"\"\n",
    "\n",
    "df_2020 = read_query(q)"
   ]
  },
  {
   "cell_type": "code",
   "execution_count": 10,
   "metadata": {},
   "outputs": [
    {
     "data": {
      "text/html": [
       "<div>\n",
       "<style scoped>\n",
       "    .dataframe tbody tr th:only-of-type {\n",
       "        vertical-align: middle;\n",
       "    }\n",
       "\n",
       "    .dataframe tbody tr th {\n",
       "        vertical-align: top;\n",
       "    }\n",
       "\n",
       "    .dataframe thead th {\n",
       "        text-align: right;\n",
       "    }\n",
       "</style>\n",
       "<table border=\"1\" class=\"dataframe\">\n",
       "  <thead>\n",
       "    <tr style=\"text-align: right;\">\n",
       "      <th></th>\n",
       "      <th>t_dat</th>\n",
       "      <th>article_id</th>\n",
       "      <th>total_purchase</th>\n",
       "    </tr>\n",
       "  </thead>\n",
       "  <tbody>\n",
       "    <tr>\n",
       "      <th>0</th>\n",
       "      <td>2020-01-01</td>\n",
       "      <td>835247001</td>\n",
       "      <td>17</td>\n",
       "    </tr>\n",
       "    <tr>\n",
       "      <th>1</th>\n",
       "      <td>2020-01-01</td>\n",
       "      <td>802930002</td>\n",
       "      <td>1</td>\n",
       "    </tr>\n",
       "    <tr>\n",
       "      <th>2</th>\n",
       "      <td>2020-01-01</td>\n",
       "      <td>760084008</td>\n",
       "      <td>18</td>\n",
       "    </tr>\n",
       "    <tr>\n",
       "      <th>3</th>\n",
       "      <td>2020-01-01</td>\n",
       "      <td>804662002</td>\n",
       "      <td>1</td>\n",
       "    </tr>\n",
       "    <tr>\n",
       "      <th>4</th>\n",
       "      <td>2020-01-01</td>\n",
       "      <td>801554002</td>\n",
       "      <td>1</td>\n",
       "    </tr>\n",
       "    <tr>\n",
       "      <th>...</th>\n",
       "      <td>...</td>\n",
       "      <td>...</td>\n",
       "      <td>...</td>\n",
       "    </tr>\n",
       "    <tr>\n",
       "      <th>1854398</th>\n",
       "      <td>2020-09-22</td>\n",
       "      <td>864339003</td>\n",
       "      <td>1</td>\n",
       "    </tr>\n",
       "    <tr>\n",
       "      <th>1854399</th>\n",
       "      <td>2020-09-22</td>\n",
       "      <td>881448002</td>\n",
       "      <td>1</td>\n",
       "    </tr>\n",
       "    <tr>\n",
       "      <th>1854400</th>\n",
       "      <td>2020-09-22</td>\n",
       "      <td>701472004</td>\n",
       "      <td>1</td>\n",
       "    </tr>\n",
       "    <tr>\n",
       "      <th>1854401</th>\n",
       "      <td>2020-09-22</td>\n",
       "      <td>832505003</td>\n",
       "      <td>1</td>\n",
       "    </tr>\n",
       "    <tr>\n",
       "      <th>1854402</th>\n",
       "      <td>2020-09-22</td>\n",
       "      <td>891322004</td>\n",
       "      <td>1</td>\n",
       "    </tr>\n",
       "  </tbody>\n",
       "</table>\n",
       "<p>1854403 rows × 3 columns</p>\n",
       "</div>"
      ],
      "text/plain": [
       "             t_dat article_id  total_purchase\n",
       "0       2020-01-01  835247001              17\n",
       "1       2020-01-01  802930002               1\n",
       "2       2020-01-01  760084008              18\n",
       "3       2020-01-01  804662002               1\n",
       "4       2020-01-01  801554002               1\n",
       "...            ...        ...             ...\n",
       "1854398 2020-09-22  864339003               1\n",
       "1854399 2020-09-22  881448002               1\n",
       "1854400 2020-09-22  701472004               1\n",
       "1854401 2020-09-22  832505003               1\n",
       "1854402 2020-09-22  891322004               1\n",
       "\n",
       "[1854403 rows x 3 columns]"
      ]
     },
     "execution_count": 10,
     "metadata": {},
     "output_type": "execute_result"
    }
   ],
   "source": [
    "df_2020"
   ]
  },
  {
   "attachments": {},
   "cell_type": "markdown",
   "metadata": {},
   "source": [
    "Saving the three new tables to avoid having to run these memory intensive queries everytime:"
   ]
  },
  {
   "cell_type": "code",
   "execution_count": 11,
   "metadata": {},
   "outputs": [
    {
     "data": {
      "text/plain": [
       "1854403"
      ]
     },
     "execution_count": 11,
     "metadata": {},
     "output_type": "execute_result"
    }
   ],
   "source": [
    "engine = create_engine(f'mysql+pymysql://{user}:{password}@{host}:{port}/{database}')\n",
    "\n",
    "df_2018.to_sql('transactions_2018', engine, if_exists='replace', index=False)\n",
    "df_2019.to_sql('transactions_2019', engine, if_exists='replace', index=False)\n",
    "df_2020.to_sql('transactions_2020', engine, if_exists='replace', index=False)"
   ]
  },
  {
   "attachments": {},
   "cell_type": "markdown",
   "metadata": {},
   "source": [
    "Instead of using individual dates, we can group them into weekdays and weekends:"
   ]
  },
  {
   "cell_type": "code",
   "execution_count": 15,
   "metadata": {},
   "outputs": [
    {
     "name": "stdout",
     "output_type": "stream",
     "text": [
      "Query Executed!\n"
     ]
    }
   ],
   "source": [
    "q = \"\"\"\n",
    "WITH all_purchase AS (\n",
    "SELECT \n",
    "    article_id,\n",
    "    SUM(total_purchase) AS Total,\n",
    "    CASE\n",
    "        WHEN WEEKDAY(t_dat) IN (0 , 6) THEN 'weekend'\n",
    "        ELSE 'weekday'\n",
    "    END AS day_type\n",
    "FROM\n",
    "    transactions_2018\n",
    "GROUP BY day_type , article_id \n",
    "UNION SELECT \n",
    "    article_id,\n",
    "    SUM(total_purchase) AS Total,\n",
    "    CASE\n",
    "        WHEN WEEKDAY(t_dat) IN (0 , 6) THEN 'weekend'\n",
    "        ELSE 'weekday'\n",
    "    END AS day_type\n",
    "FROM\n",
    "    transactions_2019\n",
    "GROUP BY day_type , article_id \n",
    "UNION SELECT \n",
    "    article_id,\n",
    "    SUM(total_purchase) AS Total,\n",
    "    CASE\n",
    "        WHEN WEEKDAY(t_dat) IN (0 , 6) THEN 'weekend'\n",
    "        ELSE 'weekday'\n",
    "    END AS day_type\n",
    "FROM\n",
    "    transactions_2020\n",
    "GROUP BY day_type , article_id\n",
    ")\n",
    "SELECT article_id, sum(Total) as total_purchases, day_type\n",
    "FROM all_purchase\n",
    "GROUP BY article_id, day_type;\n",
    "\"\"\"\n",
    "\n",
    "days_df = read_query(q)"
   ]
  },
  {
   "cell_type": "code",
   "execution_count": 16,
   "metadata": {},
   "outputs": [
    {
     "data": {
      "text/html": [
       "<div>\n",
       "<style scoped>\n",
       "    .dataframe tbody tr th:only-of-type {\n",
       "        vertical-align: middle;\n",
       "    }\n",
       "\n",
       "    .dataframe tbody tr th {\n",
       "        vertical-align: top;\n",
       "    }\n",
       "\n",
       "    .dataframe thead th {\n",
       "        text-align: right;\n",
       "    }\n",
       "</style>\n",
       "<table border=\"1\" class=\"dataframe\">\n",
       "  <thead>\n",
       "    <tr style=\"text-align: right;\">\n",
       "      <th></th>\n",
       "      <th>article_id</th>\n",
       "      <th>total_purchases</th>\n",
       "      <th>day_type</th>\n",
       "    </tr>\n",
       "  </thead>\n",
       "  <tbody>\n",
       "    <tr>\n",
       "      <th>0</th>\n",
       "      <td>663713001</td>\n",
       "      <td>274.0</td>\n",
       "      <td>weekday</td>\n",
       "    </tr>\n",
       "    <tr>\n",
       "      <th>1</th>\n",
       "      <td>541518023</td>\n",
       "      <td>90.0</td>\n",
       "      <td>weekday</td>\n",
       "    </tr>\n",
       "    <tr>\n",
       "      <th>2</th>\n",
       "      <td>505221004</td>\n",
       "      <td>36.0</td>\n",
       "      <td>weekday</td>\n",
       "    </tr>\n",
       "    <tr>\n",
       "      <th>3</th>\n",
       "      <td>685687003</td>\n",
       "      <td>1024.0</td>\n",
       "      <td>weekday</td>\n",
       "    </tr>\n",
       "    <tr>\n",
       "      <th>4</th>\n",
       "      <td>685687004</td>\n",
       "      <td>1427.0</td>\n",
       "      <td>weekday</td>\n",
       "    </tr>\n",
       "    <tr>\n",
       "      <th>...</th>\n",
       "      <td>...</td>\n",
       "      <td>...</td>\n",
       "      <td>...</td>\n",
       "    </tr>\n",
       "    <tr>\n",
       "      <th>185097</th>\n",
       "      <td>923522001</td>\n",
       "      <td>1.0</td>\n",
       "      <td>weekday</td>\n",
       "    </tr>\n",
       "    <tr>\n",
       "      <th>185098</th>\n",
       "      <td>533261032</td>\n",
       "      <td>1.0</td>\n",
       "      <td>weekday</td>\n",
       "    </tr>\n",
       "    <tr>\n",
       "      <th>185099</th>\n",
       "      <td>876372002</td>\n",
       "      <td>1.0</td>\n",
       "      <td>weekday</td>\n",
       "    </tr>\n",
       "    <tr>\n",
       "      <th>185100</th>\n",
       "      <td>876372001</td>\n",
       "      <td>1.0</td>\n",
       "      <td>weekday</td>\n",
       "    </tr>\n",
       "    <tr>\n",
       "      <th>185101</th>\n",
       "      <td>931769004</td>\n",
       "      <td>1.0</td>\n",
       "      <td>weekday</td>\n",
       "    </tr>\n",
       "  </tbody>\n",
       "</table>\n",
       "<p>185102 rows × 3 columns</p>\n",
       "</div>"
      ],
      "text/plain": [
       "       article_id  total_purchases day_type\n",
       "0       663713001            274.0  weekday\n",
       "1       541518023             90.0  weekday\n",
       "2       505221004             36.0  weekday\n",
       "3       685687003           1024.0  weekday\n",
       "4       685687004           1427.0  weekday\n",
       "...           ...              ...      ...\n",
       "185097  923522001              1.0  weekday\n",
       "185098  533261032              1.0  weekday\n",
       "185099  876372002              1.0  weekday\n",
       "185100  876372001              1.0  weekday\n",
       "185101  931769004              1.0  weekday\n",
       "\n",
       "[185102 rows x 3 columns]"
      ]
     },
     "execution_count": 16,
     "metadata": {},
     "output_type": "execute_result"
    }
   ],
   "source": [
    "days_df"
   ]
  },
  {
   "attachments": {},
   "cell_type": "markdown",
   "metadata": {},
   "source": [
    "Now that we have all our transactions of each product grouped by `day_type` we can visualize our data to see the breakdown by weekdays and weekends:"
   ]
  },
  {
   "cell_type": "code",
   "execution_count": 27,
   "metadata": {},
   "outputs": [],
   "source": [
    "grouped_days = days_df.groupby('day_type')['total_purchases'].sum().reset_index()"
   ]
  },
  {
   "attachments": {},
   "cell_type": "markdown",
   "metadata": {},
   "source": [
    "Since we have 5 weekdays and 2 weekends, we cannot use the total sum but need to standardize our results first:"
   ]
  },
  {
   "cell_type": "code",
   "execution_count": 29,
   "metadata": {},
   "outputs": [],
   "source": [
    "grouped_days.loc[grouped_days['day_type']=='weekend', 'total_purchases']/=2\n",
    "grouped_days.loc[grouped_days['day_type']=='weekday', 'total_purchases']/=5"
   ]
  },
  {
   "cell_type": "code",
   "execution_count": 30,
   "metadata": {},
   "outputs": [
    {
     "data": {
      "text/html": [
       "<div>\n",
       "<style scoped>\n",
       "    .dataframe tbody tr th:only-of-type {\n",
       "        vertical-align: middle;\n",
       "    }\n",
       "\n",
       "    .dataframe tbody tr th {\n",
       "        vertical-align: top;\n",
       "    }\n",
       "\n",
       "    .dataframe thead th {\n",
       "        text-align: right;\n",
       "    }\n",
       "</style>\n",
       "<table border=\"1\" class=\"dataframe\">\n",
       "  <thead>\n",
       "    <tr style=\"text-align: right;\">\n",
       "      <th></th>\n",
       "      <th>day_type</th>\n",
       "      <th>total_purchases</th>\n",
       "    </tr>\n",
       "  </thead>\n",
       "  <tbody>\n",
       "    <tr>\n",
       "      <th>0</th>\n",
       "      <td>weekday</td>\n",
       "      <td>3203886.6</td>\n",
       "    </tr>\n",
       "    <tr>\n",
       "      <th>1</th>\n",
       "      <td>weekend</td>\n",
       "      <td>3121354.5</td>\n",
       "    </tr>\n",
       "  </tbody>\n",
       "</table>\n",
       "</div>"
      ],
      "text/plain": [
       "  day_type  total_purchases\n",
       "0  weekday        3203886.6\n",
       "1  weekend        3121354.5"
      ]
     },
     "execution_count": 30,
     "metadata": {},
     "output_type": "execute_result"
    }
   ],
   "source": [
    "grouped_days"
   ]
  },
  {
   "cell_type": "code",
   "execution_count": 32,
   "metadata": {},
   "outputs": [
    {
     "data": {
      "image/png": "[encoded data removed]",
      "text/plain": [
       "<Figure size 640x480 with 1 Axes>"
      ]
     },
     "metadata": {},
     "output_type": "display_data"
    }
   ],
   "source": [
    "sns.barplot(x='day_type', y='total_purchases', data= grouped_days)\n",
    "\n",
    "plt.title('Breakdown by Weeknds and Weekdays')\n",
    "plt.show()"
   ]
  },
  {
   "attachments": {},
   "cell_type": "markdown",
   "metadata": {},
   "source": [
    "The total items bought seem to be similar on weekdays and weekend."
   ]
  },
  {
   "attachments": {},
   "cell_type": "markdown",
   "metadata": {},
   "source": [
    "A naive a recoomender system would recommend items based on how popular it was in the past. So for our initial system, we will use the total transactions data grouped into weekdays and weekends to build a simple popularity based recommender system. Before we can continue, we need to save our table of total_purchases grouped by day_type."
   ]
  },
  {
   "cell_type": "code",
   "execution_count": 34,
   "metadata": {},
   "outputs": [
    {
     "data": {
      "text/plain": [
       "185102"
      ]
     },
     "execution_count": 34,
     "metadata": {},
     "output_type": "execute_result"
    }
   ],
   "source": [
    "days_df.to_sql('popularity_v1', engine, if_exists='replace', index=False)"
   ]
  }
 ],
 "metadata": {
  "kernelspec": {
   "display_name": "click_predict",
   "language": "python",
   "name": "python3"
  },
  "language_info": {
   "codemirror_mode": {
    "name": "ipython",
    "version": 3
   },
   "file_extension": ".py",
   "mimetype": "text/x-python",
   "name": "python",
   "nbconvert_exporter": "python",
   "pygments_lexer": "ipython3",
   "version": "3.11.2"
  },
  "orig_nbformat": 4
 },
 "nbformat": 4,
 "nbformat_minor": 2
}
